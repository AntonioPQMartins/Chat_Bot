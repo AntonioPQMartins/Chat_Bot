{
  "nbformat": 4,
  "nbformat_minor": 0,
  "metadata": {
    "colab": {
      "name": "Chat_bot1.ipynb",
      "provenance": [],
      "collapsed_sections": []
    },
    "kernelspec": {
      "name": "python3",
      "display_name": "Python 3"
    }
  },
  "cells": [
    {
      "cell_type": "code",
      "metadata": {
        "id": "wioJAumG527V",
        "colab_type": "code",
        "colab": {}
      },
      "source": [
        "# chat bot program\n"
      ],
      "execution_count": 0,
      "outputs": []
    },
    {
      "cell_type": "code",
      "metadata": {
        "id": "qLB_YaVN7ELi",
        "colab_type": "code",
        "colab": {}
      },
      "source": [
        "from nltk.chat.util import Chat, reflections\n"
      ],
      "execution_count": 0,
      "outputs": []
    },
    {
      "cell_type": "code",
      "metadata": {
        "id": "sWmN9UyX7SQp",
        "colab_type": "code",
        "colab": {}
      },
      "source": [
        "pairs = [\n",
        "         ['my name is (.*)', ['hi %1']],\n",
        "         ['(hi | hello | hey | holla | hola)', [ 'hey there', 'hi there', 'haayyy']],\n",
        "         ['(.*) in (.*) is fun', ['%1 in %2 is indeed fun']],\n",
        "         ['(.*) (location|city)?', 'Tokyo, Japan'],\n",
        "         ['(.*) created you?',['randerson112358 did using NLTK']],\n",
        "         ['how is the weather in (.*)',['the weather in %1 is amazing like always']],\n",
        "         ['(.*)help(.*)', ['I can help you'] ],\n",
        "         ['(.*) your name?',['JARVIS is my name']]\n",
        "]"
      ],
      "execution_count": 0,
      "outputs": []
    },
    {
      "cell_type": "code",
      "metadata": {
        "id": "IXSjR5kE9MwI",
        "colab_type": "code",
        "colab": {}
      },
      "source": [
        "my_dummy_reflections = {\n",
        "    'go' : 'gone',\n",
        "    'hello': 'hey there'\n",
        "}"
      ],
      "execution_count": 0,
      "outputs": []
    },
    {
      "cell_type": "code",
      "metadata": {
        "id": "0i56hVFl7m_m",
        "colab_type": "code",
        "outputId": "bb3ad2a7-6bd7-43f4-f8ce-ae84b1a2663f",
        "colab": {
          "base_uri": "https://localhost:8080/",
          "height": 51
        }
      },
      "source": [
        "chat = Chat(pairs, my_dummy_reflections)\n",
        "#chat._substitute('disney in california is fun')\n",
        "chat.converse()\n"
      ],
      "execution_count": 0,
      "outputs": [
        {
          "output_type": "stream",
          "text": [
            ">quit\n",
            "None\n"
          ],
          "name": "stdout"
        }
      ]
    },
    {
      "cell_type": "code",
      "metadata": {
        "id": "8q80swbr8MeY",
        "colab_type": "code",
        "outputId": "dc7b273c-dd1f-457c-edc6-59fd5136253f",
        "colab": {
          "base_uri": "https://localhost:8080/",
          "height": 294
        }
      },
      "source": [
        "reflections"
      ],
      "execution_count": 0,
      "outputs": [
        {
          "output_type": "execute_result",
          "data": {
            "text/plain": [
              "{'i': 'you',\n",
              " 'i am': 'you are',\n",
              " 'i was': 'you were',\n",
              " \"i'd\": 'you would',\n",
              " \"i'll\": 'you will',\n",
              " \"i'm\": 'you are',\n",
              " \"i've\": 'you have',\n",
              " 'me': 'you',\n",
              " 'my': 'your',\n",
              " 'you': 'me',\n",
              " 'you are': 'I am',\n",
              " 'you were': 'I was',\n",
              " \"you'll\": 'I will',\n",
              " \"you've\": 'I have',\n",
              " 'your': 'my',\n",
              " 'yours': 'mine'}"
            ]
          },
          "metadata": {
            "tags": []
          },
          "execution_count": 22
        }
      ]
    },
    {
      "cell_type": "code",
      "metadata": {
        "id": "zM3u0gi29AFC",
        "colab_type": "code",
        "colab": {}
      },
      "source": [
        ""
      ],
      "execution_count": 0,
      "outputs": []
    }
  ]
}